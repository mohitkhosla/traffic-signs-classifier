{
 "cells": [
  {
   "cell_type": "markdown",
   "metadata": {},
   "source": [
    "# Importing Libraries\n",
    "\n",
    "This is useful to build the Model and to use the performance metrics for evaluation. These are all the necessary imports required for this Notebook"
   ]
  },
  {
   "cell_type": "code",
   "execution_count": 9,
   "metadata": {},
   "outputs": [],
   "source": [
    "import tensorflow as tf\n",
    "from PIL import Image\n",
    "import numpy as np\n",
    "import matplotlib.pyplot as plt\n",
    "import os\n",
    "import pandas as pd\n",
    "import cv2\n",
    "import itertools\n",
    "\n",
    "from keras.utils import to_categorical\n",
    "\n",
    "#Accuracy with the test data\n",
    "# demonstration of calculating metrics for a neural network model using sklearn\n",
    "from sklearn.metrics import accuracy_score\n",
    "from sklearn.metrics import precision_score\n",
    "from sklearn.metrics import recall_score\n",
    "from sklearn.metrics import f1_score\n",
    "from sklearn.metrics import roc_auc_score\n",
    "from sklearn.metrics import confusion_matrix\n",
    "\n",
    "# To generate the classification report \n",
    "from sklearn.metrics import classification_report"
   ]
  },
  {
   "cell_type": "markdown",
   "metadata": {},
   "source": [
    "# Extracting The Dataset"
   ]
  },
  {
   "cell_type": "code",
   "execution_count": 10,
   "metadata": {},
   "outputs": [],
   "source": [
    "# import zipfile\n",
    "# with zipfile.ZipFile('independent-evaluation.zip', 'r') as zip_ref:\n",
    "#     zip_ref.extractall('./')"
   ]
  },
  {
   "cell_type": "markdown",
   "metadata": {},
   "source": [
    "Loading the Model which has already been saved to perform the independent evaluation"
   ]
  },
  {
   "cell_type": "code",
   "execution_count": 11,
   "metadata": {},
   "outputs": [],
   "source": [
    "model = tf.keras.models.load_model(\"signsClassifierModel.h5\")"
   ]
  },
  {
   "cell_type": "markdown",
   "metadata": {},
   "source": [
    "# DATA FORMATION\n",
    "\n",
    "the images were converted into Gray Scale, such that the images would no longer be used on the RGB Channels, by using cv2.IMREAD_GRAYSCALE. The grey-scale images were then resized into a fixed size of 28x28 dimension, so that the models should be working smoothly on the same sized of the scaled images. Once the scaling and conversion of channels was performed the images were stored into an array by appending the images data with the categories. However, this was an essential step in order for me to segregate these images into two separate arrays, each for features and labels"
   ]
  },
  {
   "cell_type": "code",
   "execution_count": 12,
   "metadata": {},
   "outputs": [
    {
     "name": "stdout",
     "output_type": "stream",
     "text": [
      "Length (Number) of the Features Array: 124\n",
      "Number of Unique Labels: 12\n"
     ]
    }
   ],
   "source": [
    "CATEGORIES = [\"bicycle\", \"continue\", \"crossing\", \"giveway\", \"laneend\", \"limitedtraffic\", \"noentry\", \"noparking\", \"parking\", \"rightofway\", \"roundabout\", \"speed\", \"stop\", \"trafficdirective\", \"traveldirection\", \"warning\"]\n",
    "\n",
    "EVALUATION_DATASET = \"independent-evaluation/german-traffic-sign/signs\"\n",
    "\n",
    "dataArray = []\n",
    "\n",
    "def CreateIndependentEvaluationArray():\n",
    "  # Looping through the first loop to check each and every category  \n",
    "  for category in CATEGORIES:\n",
    "    path = os.path.join(EVALUATION_DATASET, category)\n",
    "    classIndex = CATEGORIES.index(category)\n",
    "    \n",
    "    # Reading all the images from that category and storing the data in an image array\n",
    "    for img in os.listdir(path):\n",
    "      try:\n",
    "        imagesArray = cv2.imread(os.path.join(path, img), cv2.IMREAD_GRAYSCALE)\n",
    "        resizedImagesArray = cv2.resize(imagesArray, (28, 28))\n",
    "        dataArray.append([resizedImagesArray, classIndex])\n",
    "      except Exception as e:\n",
    "        pass\n",
    "    \n",
    "CreateIndependentEvaluationArray()\n",
    "\n",
    "# Appending features and label array from the data array\n",
    "featuresArray = []\n",
    "labelArray = []\n",
    "\n",
    "for features, label in dataArray:\n",
    "  featuresArray.append(features)\n",
    "  labelArray.append(label)\n",
    "\n",
    "# Once the looping through has been done, the images are reshaped and stored using numpy array       \n",
    "featuresArray = np.array(featuresArray).reshape(-1, 28, 28, 1)\n",
    "labelArray = np.array(labelArray)\n",
    "\n",
    "uniqueLabelList = []\n",
    "\n",
    "# To find out the list of unique number of labels present in the label array\n",
    "def unique(list): \n",
    "    for x in list: \n",
    "        # check if exists in uniqueLabelList or not \n",
    "        if x not in uniqueLabelList: \n",
    "            uniqueLabelList.append(x) \n",
    "    \n",
    "unique(labelArray)\n",
    "\n",
    "print(\"Length (Number) of the Features Array:\", len(featuresArray))\n",
    "print(\"Number of Unique Labels:\", len(uniqueLabelList))"
   ]
  },
  {
   "cell_type": "markdown",
   "metadata": {},
   "source": [
    "# Prediction\n",
    "\n",
    "I had used different performance metrics for evaluation, such as Accuracy, Precision, Recall, and F1 Score. These metrics were used to determine the true positive, false positive, true negative and false negative values for the predictions when compared with the labelTestY. All these performance metrics showcased that the Models are performing highly accurate"
   ]
  },
  {
   "cell_type": "code",
   "execution_count": 13,
   "metadata": {},
   "outputs": [
    {
     "name": "stdout",
     "output_type": "stream",
     "text": [
      "\n",
      "Prediction Test Accuracy: 0.991935\n",
      "Precision: 0.992440\n",
      "Recall: 0.991935\n",
      "F1 score: 0.991904\n"
     ]
    }
   ],
   "source": [
    "predictions = model.predict_classes(featuresArray)\n",
    "\n",
    "accuracy = accuracy_score(labelArray, predictions)\n",
    "\n",
    "# precision tp / (tp + fp)\n",
    "precision = precision_score(labelArray, predictions, average=\"weighted\")\n",
    "\n",
    "# recall: tp / (tp + fn)\n",
    "recall = recall_score(labelArray, predictions, average=\"weighted\")\n",
    "\n",
    "# f1: 2 tp / (2 tp + fp + fn)\n",
    "f1 = f1_score(labelArray, predictions, average=\"weighted\")\n",
    "\n",
    "\n",
    "print(\"\\nPrediction Test Accuracy: %f\" % accuracy)\n",
    "print('Precision: %f' % precision)\n",
    "print('Recall: %f' % recall)\n",
    "print('F1 score: %f' % f1)"
   ]
  },
  {
   "cell_type": "markdown",
   "metadata": {},
   "source": [
    "# Visualizing the Prediciton\n",
    "\n",
    "This is to check that for the given unseen data, how many number of classes are predicied correctly and incorrectly"
   ]
  },
  {
   "cell_type": "code",
   "execution_count": 14,
   "metadata": {},
   "outputs": [
    {
     "name": "stdout",
     "output_type": "stream",
     "text": [
      "\n",
      "Found '123' Labels which are Predicted Correctly\n",
      "\n"
     ]
    },
    {
     "data": {
      "image/png": "[encoded data removed]",
      "text/plain": [
       "<Figure size 1080x864 with 9 Axes>"
      ]
     },
     "metadata": {},
     "output_type": "display_data"
    }
   ],
   "source": [
    "correct = np.where(predictions == labelArray)[0]\n",
    "print(\"\\nFound '%d' Labels which are Predicted Correctly\\n\" % len(correct))\n",
    "\n",
    "plt.figure(figsize=(15,12))\n",
    "for i, correct in enumerate(correct[:10]):\n",
    "    plt.subplot(5, 2, i+1)\n",
    "    plt.imshow(featuresArray[correct].reshape(28,28), cmap='gray', interpolation='none')\n",
    "    plt.title(\"Predicted: {}, Class: {}\".format(CATEGORIES[predictions[correct]], CATEGORIES[labelArray[correct]]))\n",
    "    plt.tight_layout()\n",
    "    plt.axis('off')"
   ]
  },
  {
   "cell_type": "code",
   "execution_count": 15,
   "metadata": {},
   "outputs": [
    {
     "name": "stdout",
     "output_type": "stream",
     "text": [
      "\n",
      "Found '1' Labels which are Predicted Incorrectly\n",
      "\n"
     ]
    },
    {
     "data": {
      "image/png": "[encoded data removed]",
      "text/plain": [
       "<Figure size 1080x864 with 1 Axes>"
      ]
     },
     "metadata": {},
     "output_type": "display_data"
    }
   ],
   "source": [
    "incorrect = np.where(predictions != labelArray)[0]\n",
    "print(\"\\nFound '%d' Labels which are Predicted Incorrectly\\n\" % len(incorrect))\n",
    "\n",
    "plt.figure(figsize=(15,12))\n",
    "for i, incorrect in enumerate(incorrect[:10]):\n",
    "    plt.subplot(5, 2, i+1)\n",
    "    plt.imshow(featuresArray[incorrect].reshape(28,28), cmap='gray', interpolation='none')\n",
    "    plt.title(\"Predicted: {}, Class: {}\".format(CATEGORIES[predictions[incorrect]], CATEGORIES[labelArray[incorrect]]))\n",
    "    plt.tight_layout()\n",
    "    plt.axis('off')"
   ]
  },
  {
   "cell_type": "markdown",
   "metadata": {},
   "source": [
    "Lastly, everything was summed up with a Confusion Matrix as to get a clear idea of which classes were incorrectly classified and what were the total count of those incorrectly predicted classes"
   ]
  },
  {
   "cell_type": "code",
   "execution_count": 16,
   "metadata": {},
   "outputs": [
    {
     "name": "stdout",
     "output_type": "stream",
     "text": [
      "Confusion Matrix:\n",
      "\n",
      " [[11  0  0  0  0  0  0  0  0  0  0  0]\n",
      " [ 0  1  0  0  0  0  0  0  0  0  0  0]\n",
      " [ 0  0 15  0  0  0  0  0  0  0  0  0]\n",
      " [ 0  0  0  7  0  0  0  0  0  0  0  0]\n",
      " [ 0  0  0  0  8  0  0  0  0  0  0  0]\n",
      " [ 0  0  0  0  0 13  0  0  0  0  0  0]\n",
      " [ 0  0  0  0  0  0  8  0  0  0  0  0]\n",
      " [ 0  0  0  0  0  0  0  9  0  0  0  0]\n",
      " [ 0  0  0  0  0  0  0  0  9  0  0  0]\n",
      " [ 0  0  0  0  0  0  0  0  0 15  0  0]\n",
      " [ 0  0  0  0  0  0  0  0  0  0 12  1]\n",
      " [ 0  0  0  0  0  0  0  0  0  0  0 15]]\n"
     ]
    }
   ],
   "source": [
    "cm = confusion_matrix(labelArray, predictions)\n",
    "\n",
    "print (\"Confusion Matrix:\\n\\n\", cm)"
   ]
  }
 ],
 "metadata": {
  "kernelspec": {
   "display_name": "conda_tensorflow_p36",
   "language": "python",
   "name": "conda_tensorflow_p36"
  },
  "language_info": {
   "codemirror_mode": {
    "name": "ipython",
    "version": 3
   },
   "file_extension": ".py",
   "mimetype": "text/x-python",
   "name": "python",
   "nbconvert_exporter": "python",
   "pygments_lexer": "ipython3",
   "version": "3.6.6"
  }
 },
 "nbformat": 4,
 "nbformat_minor": 4
}
